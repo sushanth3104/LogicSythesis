{
 "cells": [
  {
   "cell_type": "markdown",
   "metadata": {},
   "source": [
    "### Minterm Minimization Logic"
   ]
  },
  {
   "cell_type": "code",
   "execution_count": null,
   "metadata": {},
   "outputs": [],
   "source": [
    "from itertools import combinations"
   ]
  },
  {
   "cell_type": "code",
   "execution_count": null,
   "metadata": {},
   "outputs": [],
   "source": [
    "# Function to check if two minterms differ by only one bit\n",
    "def differ_by_one_bit(a, b):\n",
    "    diff_count = 0\n",
    "    diff_index = -1\n",
    "    for i in range(len(a)):\n",
    "        if a[i] != b[i]:\n",
    "            diff_count += 1\n",
    "            diff_index = i\n",
    "            \n",
    "    return diff_count == 1, diff_index"
   ]
  },
  {
   "cell_type": "code",
   "execution_count": null,
   "metadata": {},
   "outputs": [],
   "source": [
    "# Function to combine two minterms if they differ by one bit\n",
    "def combine_minterms(a, b, index):\n",
    "    \n",
    "    combined = list(a)\n",
    "    combined[index] = '-'\n",
    "\n",
    "    return ''.join(combined)"
   ]
  },
  {
   "cell_type": "code",
   "execution_count": null,
   "metadata": {},
   "outputs": [],
   "source": [
    "# Function to find prime implicants\n",
    "def find_prime_implicants(minterms):\n",
    "    new_minterms = set()\n",
    "    used = set()\n",
    "    for a, b in combinations(minterms, 2):\n",
    "        differ, index = differ_by_one_bit(a, b)\n",
    "        if differ:\n",
    "            new_minterms.add(combine_minterms(a, b, index))\n",
    "            used.add(a)\n",
    "            used.add(b)\n",
    "    remaining_minterms = set(minterms) - used\n",
    "    return new_minterms.union(remaining_minterms)"
   ]
  },
  {
   "cell_type": "code",
   "execution_count": null,
   "metadata": {},
   "outputs": [],
   "source": [
    "# Main function to minimize the boolean function\n",
    "def minimize_function(minterms):\n",
    "    # Keep simplifying until no more combinations can be made\n",
    "    while True:\n",
    "        new_minterms = find_prime_implicants(minterms)\n",
    "        if new_minterms == set(minterms):\n",
    "            break\n",
    "        minterms = new_minterms\n",
    "    return minterms"
   ]
  },
  {
   "cell_type": "markdown",
   "metadata": {},
   "source": [
    "### Mimimized Minterms to Cube conversion"
   ]
  },
  {
   "cell_type": "code",
   "execution_count": null,
   "metadata": {},
   "outputs": [],
   "source": [
    "def min_to_cube(minfunc,fact_literal_list):\n",
    "    minfunc = list(minfunc)\n",
    "    length = len(minfunc[0])\n",
    "\n",
    "    final_rep = []\n",
    "\n",
    "    for item in minfunc:\n",
    "        counter = 0\n",
    "        cube_list = []\n",
    "\n",
    "        for index,char in enumerate(item):\n",
    "            if char == '-':\n",
    "                counter = counter + 1\n",
    "            elif char == '1':\n",
    "                cube_list.append(fact_literal_list[index])\n",
    "            else:\n",
    "                cube_list.append(fact_literal_list[index].capitalize())\n",
    "\n",
    "        if counter == length:\n",
    "            return 1 \n",
    "        else :\n",
    "            final_rep.append(\"\".join(cube_list))\n",
    "\n",
    "    final_rep = \"+\".join(final_rep)\n",
    "    return final_rep  "
   ]
  },
  {
   "cell_type": "markdown",
   "metadata": {},
   "source": [
    "### Consensus Computation"
   ]
  },
  {
   "cell_type": "code",
   "execution_count": null,
   "metadata": {},
   "outputs": [],
   "source": [
    "\n",
    "def consensus_fun(fact_norm,fact_comp):\n",
    "\n",
    "    consensus_list = []\n",
    "    if len(fact_norm)>len(fact_comp):\n",
    "        iteratable_list = fact_norm\n",
    "        comparing_list = fact_comp\n",
    "    else:\n",
    "        iteratable_list = fact_comp\n",
    "        comparing_list = fact_norm\n",
    "        \n",
    "\n",
    "    for item in iteratable_list:\n",
    "        if item in comparing_list:\n",
    "            consensus_list.append(item)\n",
    "\n",
    "    if len(consensus_list) == 0 :\n",
    "       return 0\n",
    "    else :\n",
    "       return consensus_list\n"
   ]
  },
  {
   "cell_type": "markdown",
   "metadata": {},
   "source": [
    "### Boolean Difference : smoothing & consensus'"
   ]
  },
  {
   "cell_type": "code",
   "execution_count": null,
   "metadata": {},
   "outputs": [],
   "source": [
    "def booldiff(smoothing,consensus):\n",
    "\n",
    "    \"\"\"\n",
    "      Implement booldiff = smoothing * (consensus)' \n",
    "      Initially implement (consensus)' and then apply \n",
    "      consensus function with smoothing and (consensus)' \n",
    "      as arguments.\n",
    "    \"\"\"\n",
    "    if  consensus == 0 :\n",
    "        return smoothing\n",
    "    else :\n",
    "        bit_length = len(smoothing[0])\n",
    "        possible_bool_list = [bin(i)[2:].zfill(bit_length) for i in range(2**bit_length)]\n",
    "\n",
    "        # Computing Consensus'\n",
    "        for minterm in consensus:\n",
    "            if minterm in possible_bool_list:\n",
    "               possible_bool_list.remove(minterm)\n",
    "        \n",
    "        # After the loop possible_bool_list becomes the complement of consensus\n",
    "    \n",
    "    \n",
    "    return consensus_fun(smoothing,possible_bool_list)"
   ]
  },
  {
   "cell_type": "markdown",
   "metadata": {},
   "source": [
    "### Cofactor is computed in the block below"
   ]
  },
  {
   "cell_type": "code",
   "execution_count": null,
   "metadata": {},
   "outputs": [],
   "source": [
    "def factorize(minterm,literal_list_fact,var):\n",
    "    \n",
    "    factorized_list = []\n",
    "\n",
    "    if var.isupper():\n",
    "        index = literal_list_fact.index(var.lower())\n",
    "        del literal_list_fact[index]\n",
    "        for cube in minterm:\n",
    "            if cube[index] == '0':\n",
    "                factorized_list.append(cube[:index]+cube[index+1:])\n",
    "    else:\n",
    "        index = literal_list_fact.index(var)\n",
    "        del literal_list_fact[index]\n",
    "        for cube in minterm:\n",
    "            if cube[index] == '1':\n",
    "                factorized_list.append(cube[:index]+cube[index+1:])\n",
    "    \n",
    "    factorized_list = list(set(factorized_list))\n",
    "    \n",
    "    return factorized_list,literal_list_fact"
   ]
  },
  {
   "cell_type": "markdown",
   "metadata": {},
   "source": [
    "### The next two block are used to generate all the minterms recursively"
   ]
  },
  {
   "cell_type": "code",
   "execution_count": null,
   "metadata": {},
   "outputs": [],
   "source": [
    "def generate_combinations(s,expanded_list):\n",
    "\n",
    "    # Base case: if there's no 'x' in the string, add it to expanded_list\n",
    "    if 'x' not in s:\n",
    "        expanded_list.append(s)\n",
    "        return\n",
    "    \n",
    "    # Replace the first 'x' with '0' and '1', and recursively process both\n",
    "    generate_combinations(s.replace('x', '0', 1),expanded_list)  # Replace 'x' with '0' in the first occurrence\n",
    "    generate_combinations(s.replace('x', '1', 1),expanded_list)  # Replace 'x' with '1' in the first occurrence"
   ]
  },
  {
   "cell_type": "code",
   "execution_count": null,
   "metadata": {},
   "outputs": [],
   "source": [
    "def gen_minterm(cube,literal_list):\n",
    "    minterm = []\n",
    "    for literal in literal_list:\n",
    "        if literal in cube:\n",
    "            minterm.append(\"1\")\n",
    "        elif literal.capitalize() in cube:\n",
    "            minterm.append(\"0\")\n",
    "        else:\n",
    "            minterm.append(\"x\")\n",
    "    minterm =  \"\".join(minterm)\n",
    "\n",
    "    expanded_list = []\n",
    "\n",
    "    if 'x' in minterm:\n",
    "        generate_combinations(minterm,expanded_list) \n",
    "        return expanded_list\n",
    "    \n",
    "    return minterm"
   ]
  },
  {
   "cell_type": "markdown",
   "metadata": {},
   "source": [
    "### Start of Program : User inputs"
   ]
  },
  {
   "cell_type": "code",
   "execution_count": null,
   "metadata": {},
   "outputs": [],
   "source": [
    "variables =  input(\"    Enter the variables: \")\n",
    "expression = input(\"    Enter the boolean expression: \")\n",
    "fact_var   = input(\"    Enter the variable for factorization: \")"
   ]
  },
  {
   "cell_type": "code",
   "execution_count": null,
   "metadata": {},
   "outputs": [],
   "source": [
    "literal_list = []\n",
    "for literal in variables:\n",
    "    literal_list.append(literal)\n",
    "\n",
    "exp_minterms = []\n",
    "\n",
    "for cube in expression.split(\"+\"):\n",
    "    exp_minterms.append(gen_minterm(cube,literal_list))\n",
    "\n",
    "\n",
    "exp_minterms = sum([item if isinstance(item, list) else [item] for item in exp_minterms], [])\n",
    "exp_minterms = list(set(exp_minterms))\n",
    "\n",
    "fact_norm,fact_literal_list = factorize(exp_minterms,literal_list[:],fact_var)\n",
    "\n",
    "fact_comp,fact_literal_list = factorize(exp_minterms,literal_list[:],fact_var.capitalize())\n",
    "\n",
    "smoothing = list(set(fact_norm+fact_comp)) \n",
    "\n",
    "consensus = consensus_fun(fact_norm,fact_comp)\n",
    "\n",
    "if consensus == 0:\n",
    "    final_consensus = 0\n",
    "else:\n",
    "    final_consensus = min_to_cube(minimize_function(consensus),fact_literal_list)\n",
    "\n",
    "BooleanDiference = booldiff(smoothing,consensus)"
   ]
  },
  {
   "cell_type": "code",
   "execution_count": null,
   "metadata": {},
   "outputs": [],
   "source": [
    "print(\"smoothing function =\",min_to_cube(minimize_function(smoothing),fact_literal_list))\n",
    "print(\"Consensus function =\",final_consensus)\n",
    "print(\"Boolean Difference function = \",min_to_cube(minimize_function(BooleanDiference),fact_literal_list))"
   ]
  }
 ],
 "metadata": {
  "language_info": {
   "name": "python"
  }
 },
 "nbformat": 4,
 "nbformat_minor": 2
}
